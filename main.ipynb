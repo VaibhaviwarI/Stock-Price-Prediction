import yfinance as yf
import pandas as pd
from sklearn.preprocessing import MinMaxScaler
from tensorflow.keras.models import Sequential
from tensorflow.keras.layers import Dense
import numpy as np

stock_symbol = 'AAPL'


data = yf.download(stock_symbol, start='2010-01-01', end='2022-02-26')

features = ['Open', 'High', 'Low', 'Volume']
data = data[features]


scaler = MinMaxScaler()
data_scaled = scaler.fit_transform(data)

train_size = int(0.8 * len(data_scaled))
train_data, test_data = data_scaled[0:train_size], data_scaled[train_size:len(data_scaled)]

X_train = train_data[:, :-1]
y_train = train_data[:, -1]
X_test = test_data[:, :-1]
y_test = test_data[:, -1]

model = Sequential()
model.add(Dense(64, activation='relu', input_shape=(X_train.shape[1],)))
model.add(Dense(32, activation='relu'))
model.add(Dense(1))


model.compile(optimizer='adam', loss='mean_squared_error')

model.fit(X_train, y_train, epochs=50, batch_size=32, verbose=2)

mse = model.evaluate(X_test, y_test)
print(f'Mean Squared Error (MSE): {mse:.2f}')

next_day_input = data_scaled[-1:, :-1]
next_day_prediction = model.predict(next_day_input)
print(f'Predicted price of {stock_symbol} for the next day: {next_day_prediction[0][0]:.2f}')
